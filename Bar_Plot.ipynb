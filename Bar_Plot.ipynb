{
  "nbformat": 4,
  "nbformat_minor": 0,
  "metadata": {
    "colab": {
      "provenance": [],
      "authorship_tag": "ABX9TyNUlwpcpfUQJumeuUwYtfUI",
      "include_colab_link": true
    },
    "kernelspec": {
      "name": "python3",
      "display_name": "Python 3"
    },
    "language_info": {
      "name": "python"
    }
  },
  "cells": [
    {
      "cell_type": "markdown",
      "metadata": {
        "id": "view-in-github",
        "colab_type": "text"
      },
      "source": [
        "<a href=\"https://colab.research.google.com/github/pistaacademy/Statistics_machine_learning/blob/1-Bar_Plot/Bar_Plot.ipynb\" target=\"_parent\"><img src=\"https://colab.research.google.com/assets/colab-badge.svg\" alt=\"Open In Colab\"/></a>"
      ]
    },
    {
      "cell_type": "code",
      "execution_count": 1,
      "metadata": {
        "id": "Ne0s3abm3nP_"
      },
      "outputs": [],
      "source": [
        "import matplotlib.pyplot as plt\n",
        "import numpy as np\n",
        "import pandas as pd"
      ]
    },
    {
      "cell_type": "code",
      "source": [
        "m = 30\n",
        "n = 6\n",
        "\n",
        "data = np.zeros((m,n))\n",
        "\n",
        "for i in range(n):\n",
        "  data[:,i] = 30*np.random.randn(m) * (2*i/(n-1)-1)**2 + (i+1)**2"
      ],
      "metadata": {
        "id": "t8DPJVxX37ia"
      },
      "execution_count": 4,
      "outputs": []
    },
    {
      "cell_type": "code",
      "source": [
        "fig,ax = plt.subplots(1,3,figsize=(16,4))\n",
        "\n",
        "ax[0].bar(range(n), np.mean(data, axis=0))\n",
        "\n",
        "ax[1].errorbar(range(n), np.mean(data, axis=0), np.std(data, axis=0, ddof=1), marker='s', linestyle='')\n",
        "\n",
        "plt.show()"
      ],
      "metadata": {
        "colab": {
          "base_uri": "https://localhost:8080/",
          "height": 269
        },
        "id": "AeHYsj2w4n4a",
        "outputId": "b014ed6c-875b-4046-cb41-d0c5d3ae28f9"
      },
      "execution_count": 8,
      "outputs": [
        {
          "output_type": "display_data",
          "data": {
            "text/plain": [
              "<Figure size 1152x288 with 3 Axes>"
            ],
            "image/png": "[encoded data removed]"
          },
          "metadata": {
            "needs_background": "light"
          }
        }
      ]
    },
    {
      "cell_type": "code",
      "source": [
        "data"
      ],
      "metadata": {
        "colab": {
          "base_uri": "https://localhost:8080/"
        },
        "id": "UNixtTbM5Vea",
        "outputId": "e123330a-f49c-43c7-8c4f-97beb78af5a3"
      },
      "execution_count": 7,
      "outputs": [
        {
          "output_type": "execute_result",
          "data": {
            "text/plain": [
              "array([[ 1.68393958e+01,  9.46464732e+00,  9.39046039e+00,\n",
              "         1.62046942e+01,  2.47724341e+01,  7.70240731e+01],\n",
              "       [-4.20621373e+01,  6.47643096e+00,  8.84745864e+00,\n",
              "         1.58315377e+01,  2.14423401e+01,  9.26224789e+01],\n",
              "       [ 4.35850069e+01,  1.52515555e+01,  9.28108624e+00,\n",
              "         1.62504886e+01,  1.86240963e+01, -2.12631341e-02],\n",
              "       [ 3.29730254e+01,  4.17501233e+00,  9.86994587e+00,\n",
              "         1.51777511e+01,  2.02368859e+01,  2.13141739e+01],\n",
              "       [-3.08907718e+01,  2.72888469e+01,  8.27490577e+00,\n",
              "         1.80464533e+01,  2.51144924e+01,  7.76421625e+01],\n",
              "       [ 2.31763079e+01,  1.78615530e+00,  1.20702874e+01,\n",
              "         1.64887081e+01,  2.89536951e+01,  4.08300095e+01],\n",
              "       [ 1.37387943e+01,  1.79024962e+01,  8.93377163e+00,\n",
              "         1.72072181e+01,  1.26269216e+01,  1.50407378e+01],\n",
              "       [ 8.83401380e+00, -5.64454681e+00,  9.68194532e+00,\n",
              "         1.58085287e+01,  5.51758363e+01,  4.35083469e+01],\n",
              "       [-4.66877778e+01, -6.78896039e+00,  9.92439355e+00,\n",
              "         1.47909173e+01,  1.45934021e+01,  2.86956026e+01],\n",
              "       [-1.05998425e+01,  8.95526922e+00,  9.72868927e+00,\n",
              "         1.36160982e+01,  9.01304884e+00,  4.83120271e+01],\n",
              "       [-1.14172121e+01,  1.85049538e+01,  9.95701379e+00,\n",
              "         1.80640505e+01,  2.95888109e+01,  3.83206881e+01],\n",
              "       [ 1.01177943e+01, -2.54401549e+00,  1.01284169e+01,\n",
              "         1.22597391e+01,  2.13951065e+01,  1.90660014e+01],\n",
              "       [-4.26157233e+00, -4.97345895e+00,  1.09862592e+01,\n",
              "         1.40755876e+01,  2.09678607e+01,  6.18445476e+01],\n",
              "       [ 5.65897703e+00, -2.03811468e-01,  8.02548915e+00,\n",
              "         1.72021076e+01,  1.38036902e+01, -1.54112640e+01],\n",
              "       [ 4.65924009e+01,  2.16246722e+00,  1.07292732e+01,\n",
              "         1.60018569e+01,  4.23858324e+01,  7.20108895e+01],\n",
              "       [-8.55687289e+01,  1.37365823e+01,  9.31239681e+00,\n",
              "         1.60299199e+01,  2.87865304e+01,  2.46118785e+01],\n",
              "       [ 3.04031165e+01,  1.05795636e+01,  7.87106695e+00,\n",
              "         1.44404724e+01,  1.17757820e+01, -2.59082734e+01],\n",
              "       [ 1.30530363e+01,  1.72231567e+01,  9.67109571e+00,\n",
              "         1.32746059e+01,  1.99575912e+01,  2.02653352e+01],\n",
              "       [-3.09591555e+00,  1.74021509e+00,  8.91098342e+00,\n",
              "         1.59194496e+01,  3.18864253e+01,  4.46461929e+01],\n",
              "       [-2.65748139e+01,  5.23840347e+00,  1.07514995e+01,\n",
              "         1.70703367e+01,  3.33230978e+01, -9.49665856e+00],\n",
              "       [-2.32620030e+01,  1.91940767e+01,  1.00771641e+01,\n",
              "         1.62873734e+01,  8.08304911e-01,  3.82268093e+00],\n",
              "       [ 1.04020579e+01,  2.32508476e+01,  9.19782144e+00,\n",
              "         1.48516993e+01,  2.32987841e+01,  2.98008289e+00],\n",
              "       [ 9.57682865e+00,  1.12895383e+01,  9.93492382e+00,\n",
              "         1.68535776e+01,  2.78305347e+01,  7.68707571e+01],\n",
              "       [-4.69015499e+01,  1.03307500e+01,  6.95583797e+00,\n",
              "         1.52408741e+01,  2.53814240e+01,  5.95531530e+01],\n",
              "       [-5.00845831e+01,  8.39014534e+00,  1.02044299e+01,\n",
              "         1.47622056e+01,  1.05927755e+01,  3.40866866e+01],\n",
              "       [-5.72767529e+01, -1.17179256e+01,  1.12132946e+01,\n",
              "         1.74083989e+01,  3.18001266e+01,  9.50707027e+01],\n",
              "       [ 8.55461418e+00, -4.68388818e-02,  1.06938599e+01,\n",
              "         1.73262167e+01,  2.60421782e+01,  8.68232748e+01],\n",
              "       [-1.23522461e+01, -1.85161231e+00,  9.35341471e+00,\n",
              "         1.60158013e+01,  1.50252238e+01,  6.05193122e+01],\n",
              "       [-6.00872879e+01,  3.78728383e+00,  8.46607190e+00,\n",
              "         1.69918016e+01,  1.78466402e+01,  2.45363201e+01],\n",
              "       [ 2.61096631e+01,  2.60180202e+00,  8.32329074e+00,\n",
              "         1.72248874e+01,  2.27043400e+01,  6.23776266e+01]])"
            ]
          },
          "metadata": {},
          "execution_count": 7
        }
      ]
    },
    {
      "cell_type": "code",
      "source": [],
      "metadata": {
        "id": "MP9u2KZx4F9s"
      },
      "execution_count": null,
      "outputs": []
    }
  ]
}